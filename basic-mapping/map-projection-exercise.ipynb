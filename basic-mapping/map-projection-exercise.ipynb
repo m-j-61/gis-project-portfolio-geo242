{
  "nbformat": 4,
  "nbformat_minor": 0,
  "metadata": {
    "colab": {
      "provenance": [],
      "toc_visible": true,
      "include_colab_link": true
    },
    "kernelspec": {
      "name": "python3",
      "display_name": "Python 3"
    },
    "language_info": {
      "name": "python"
    }
  },
  "cells": [
    {
      "cell_type": "markdown",
      "metadata": {
        "id": "view-in-github",
        "colab_type": "text"
      },
      "source": [
        "<a href=\"https://colab.research.google.com/github/m-j-61/gis-project-portfolio-geo242/blob/main/basic-mapping/map-projection-exercise.ipynb\" target=\"_parent\"><img src=\"https://colab.research.google.com/assets/colab-badge.svg\" alt=\"Open In Colab\"/></a>"
      ]
    },
    {
      "cell_type": "markdown",
      "source": [
        "## **GEO 242A Week 3 Assignment: Understanding the Map Projection**"
      ],
      "metadata": {
        "id": "C0ymCPR5aSHN"
      }
    },
    {
      "cell_type": "markdown",
      "source": [
        "🚀 Created by Madalyn Couch\n",
        "\n",
        "09/11/2024"
      ],
      "metadata": {
        "id": "Pt_OREXFPvkr"
      }
    },
    {
      "cell_type": "markdown",
      "source": [
        "### **0. Get ready to start**\n",
        "\n",
        "- Use **`File\\Save a copy in Drive`** to make a copy of this notebook in my own Google Drive\n",
        "- By default, this notebooks will be saved to a new folder called **`Colab`** under root directory of my Google Drive"
      ],
      "metadata": {
        "id": "v84Fkx0LHARM"
      }
    },
    {
      "cell_type": "markdown",
      "source": [
        "### **1. Understand information in a coordinate reference system (CRS)**\n",
        "\n",
        "- We loaded a **`geojson`** file of the world into QGIS and inspected the CRS information\n",
        "\n",
        "a. **What's included in the CRS information?**\n",
        "\n",
        "| Variable      | Indication  |\n",
        "| --------------| ----------- |\n",
        "| Name of CRS     | WGS 84  |\n",
        "| Method | Lat/long Geodetic alias |\n",
        "| Based on datum     | World Geodetyic System 1984 ensemble    |\n",
        "| Geographic or Projected CRS    | Geographic Coordinate System   |\n",
        "| EPSG number | 4326 |\n",
        "\n",
        "\n",
        "b. **Read Well-Known Text (WKT) of EPSG:4326**\n",
        "\n",
        "| Variable      | Indication  |\n",
        "| --------------| ----------- |\n",
        "| Name of Ellipsoid     | WGS 84  |\n",
        "| Radius used by the ellipsoid     | 6378137, 298.257223563     |\n",
        "| Angle unit    | Degree  |\n",
        "| Angle unit of North Axis | 0.0174532925199433 |\n",
        "| Angle unit of East Axis | 0.0174532925199433 |\n",
        "\n",
        "\n",
        "c. **Why the North and East axis of the ellipsoid uses the same angle unit?**\n",
        "\n",
        "![wgs84 sphere](https://drive.google.com/uc?export=view&id=16JfbIaLJ78LvQ8OCdTE9LxVqUoMkMyWz)\n",
        "\n",
        "- Calculate the % difference between semi-axis *a* and *b*\n",
        "\n",
        "$$\n",
        "0.335% = \\frac{6378.1370-6356.7523}{6378.1370} \\times 100%\n",
        "$$\n",
        "\n",
        "- This is a very 0.335% value, therefore we can treat *a* and *b* as the same value in some less strict scenarios\n",
        "\n",
        "\n"
      ],
      "metadata": {
        "id": "WVs4J1jQbESU"
      }
    },
    {
      "cell_type": "markdown",
      "source": [
        "### **2. Understand the distortion involved in projection**\n",
        "\n",
        "- We can use [Tissot's Indicatrix](https://en.wikipedia.org/wiki/Tissot%27s_indicatrix) to represent the distortion involved in the projection process\n",
        "  - Tissort's indicatrix of Behrmann Projection shows the level of distortion and how it changes with latitudes\n",
        "\n",
        "![behrmann projection](https://upload.wikimedia.org/wikipedia/commons/b/bc/Tissot_behrmann.png)\n",
        "\n",
        "- Under **WGS 84**, Tissort's Indicatrix shows no distortion because\n",
        "  - WGS 84 uses a geographic coordinate system, latitude and longitude, meaning it is a spherical system, so it does not show any distortion.\n",
        "\n",
        "- If we change the CRS from **WGS 84** to **Robinson Projection**, Tissort's indicatrix shows the distortion near the border of the map\n",
        "\n",
        "- **Take a screenshot of your map and insert this picture into notebook**\n",
        "  - Step 1: Remove **/view?usp=sharing** at the end of the link;\n",
        "  - Step 2: Replace **/file/d/** with **/uc?export=view&id=**\n",
        "![map screenshot](https://drive.google.com/uc?export=view&id=1DlnMTHDNROqH2YWS4e5e4K8M9IcOVXcu)\n",
        "- The difference between WGS 84 (a geographic coordinate system) and Robinson projection (a projected coordinate system) includes:\n",
        "\n",
        "|       | Robinson Projection  | WGS 84 |\n",
        "| --------------| ----------- |-----------|\n",
        "| **Datum**     | WGS 84  | WGS 84  |\n",
        "| **Unit**     | Degree    |Degree  |\n",
        "| **Distortion**    | Distorts shapes, areas, distances, directions, and angles   |Distorts data in the east-west direction  |\n",
        "| **Spherical or cartesian coordinate system?** | Spherical |Cartesian  |"
      ],
      "metadata": {
        "id": "i4RTLellbUh7"
      }
    },
    {
      "cell_type": "markdown",
      "source": [
        "### **3. Examine the Universal Transverse Mercator (UTM) projection**\n",
        "\n",
        "- UTM project divides the Earth into different zones to **control the distortion**\n",
        "\n",
        "![UTM](https://www.e-education.psu.edu/geog862/sites/www.e-education.psu.edu.geog862/files/images/Lesson05/UTMZones.bmp)\n",
        "\n",
        "*Image: UTM zones in lower 48 states*"
      ],
      "metadata": {
        "id": "kkgukjDcXsqC"
      }
    },
    {
      "cell_type": "markdown",
      "source": [
        "- Below is the basic information of the USGS topographic map we examined\n",
        "\n",
        "|       | USGS Topo Map  |\n",
        "| --------------| ----------- |\n",
        "| **Name of Projection**     | Universal Transverse Mercator  |\n",
        "| **Zone** | UTM 16S |\n",
        "| **Datum**     | NAD 1983|\n",
        "| **Scale**   | 1:24000   |\n",
        "| **Unit of coordinates**   | meters   |\n",
        "| **Latitude of bottom right corner** | 39.5000 degrees |\n",
        "| **Longitude of bottom right corner** | -84.6250 degrees |\n",
        "| **X coordinate of bottom right corner** | 704000 |\n",
        "| **Y coordinate of bottom right corner** | 4375000 |"
      ],
      "metadata": {
        "id": "tj5QFb0FXuqd"
      }
    },
    {
      "cell_type": "markdown",
      "source": [
        "### **Reference**\n",
        "\n",
        "- [Markdown cheat sheet](https://www.markdownguide.org/cheat-sheet/)"
      ],
      "metadata": {
        "id": "fvMbEX89YLeY"
      }
    }
  ]
}